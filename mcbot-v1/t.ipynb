{
 "cells": [
  {
   "cell_type": "code",
   "execution_count": 1,
   "metadata": {},
   "outputs": [],
   "source": [
    "from ultralytics import YOLO\n",
    "import cv2 as cv\n",
    "import os\n",
    "MODEL_PATH=os.path.join(\"mcbot-v1\",\"epoch30.pt\")"
   ]
  },
  {
   "cell_type": "code",
   "execution_count": 2,
   "metadata": {},
   "outputs": [],
   "source": [
    "model = YOLO(\"epoch30.pt\")"
   ]
  },
  {
   "cell_type": "code",
   "execution_count": 3,
   "metadata": {},
   "outputs": [
    {
     "name": "stderr",
     "output_type": "stream",
     "text": [
      "\n",
      "0: 640x800 1 llama, 319.3ms\n",
      "Speed: 4.3ms preprocess, 319.3ms inference, 1.0ms postprocess per image at shape (1, 3, 640, 800)\n"
     ]
    },
    {
     "data": {
      "text/plain": [
       "ultralytics.engine.results.Results object with attributes:\n",
       "\n",
       "boxes: ultralytics.engine.results.Boxes object\n",
       "keypoints: None\n",
       "masks: None\n",
       "names: {0: 'bee', 1: 'chicken', 2: 'cow', 3: 'creeper', 4: 'enderman', 5: 'fox', 6: 'frog', 7: 'ghast', 8: 'goat', 9: 'llama', 10: 'pig', 11: 'sheep', 12: 'skeleton', 13: 'spider', 14: 'turtle', 15: 'wolf', 16: 'zombie'}\n",
       "orig_img: array([[[255, 215, 192],\n",
       "        [255, 215, 192],\n",
       "        [255, 215, 192],\n",
       "        ...,\n",
       "        [255, 215, 192],\n",
       "        [255, 215, 192],\n",
       "        [255, 215, 192]],\n",
       "\n",
       "       [[255, 215, 192],\n",
       "        [255, 215, 192],\n",
       "        [255, 215, 192],\n",
       "        ...,\n",
       "        [255, 215, 192],\n",
       "        [255, 215, 192],\n",
       "        [255, 215, 192]],\n",
       "\n",
       "       [[255, 215, 192],\n",
       "        [255, 215, 192],\n",
       "        [255, 215, 192],\n",
       "        ...,\n",
       "        [255, 215, 192],\n",
       "        [255, 215, 192],\n",
       "        [255, 215, 192]],\n",
       "\n",
       "       ...,\n",
       "\n",
       "       [[ 39,  90,  70],\n",
       "        [ 38,  89,  69],\n",
       "        [ 39,  88,  66],\n",
       "        ...,\n",
       "        [ 52, 110,  85],\n",
       "        [ 43, 101,  76],\n",
       "        [ 39,  97,  72]],\n",
       "\n",
       "       [[ 41,  92,  72],\n",
       "        [ 40,  91,  71],\n",
       "        [ 40,  89,  67],\n",
       "        ...,\n",
       "        [ 50, 107,  82],\n",
       "        [ 40,  97,  72],\n",
       "        [ 35,  92,  67]],\n",
       "\n",
       "       [[ 44,  95,  75],\n",
       "        [ 42,  93,  73],\n",
       "        [ 42,  91,  69],\n",
       "        ...,\n",
       "        [ 50, 107,  82],\n",
       "        [ 40,  97,  72],\n",
       "        [ 35,  92,  67]]], dtype=uint8)\n",
       "orig_shape: (272, 340)\n",
       "path: 'image0.jpg'\n",
       "probs: None\n",
       "save_dir: None\n",
       "speed: {'preprocess': 4.262685775756836, 'inference': 319.3387985229492, 'postprocess': 1.033782958984375}"
      ]
     },
     "execution_count": 3,
     "metadata": {},
     "output_type": "execute_result"
    }
   ],
   "source": [
    "img=cv.imread(\"test1.jpg\")\n",
    "results=model.predict(img)\n",
    "results[0]"
   ]
  },
  {
   "cell_type": "code",
   "execution_count": 7,
   "metadata": {},
   "outputs": [
    {
     "data": {
      "text/plain": [
       "ultralytics.engine.results.Boxes object with attributes:\n",
       "\n",
       "cls: tensor([9.])\n",
       "conf: tensor([0.9362])\n",
       "data: tensor([[125.6595,  58.2163, 220.0170, 190.8182,   0.9362,   9.0000]])\n",
       "id: None\n",
       "is_track: False\n",
       "orig_shape: (272, 340)\n",
       "shape: torch.Size([1, 6])\n",
       "xywh: tensor([[172.8383, 124.5172,  94.3575, 132.6019]])\n",
       "xywhn: tensor([[0.5083, 0.4578, 0.2775, 0.4875]])\n",
       "xyxy: tensor([[125.6595,  58.2163, 220.0170, 190.8182]])\n",
       "xyxyn: tensor([[0.3696, 0.2140, 0.6471, 0.7015]])"
      ]
     },
     "execution_count": 7,
     "metadata": {},
     "output_type": "execute_result"
    }
   ],
   "source": [
    "results[0].boxes\n"
   ]
  },
  {
   "cell_type": "code",
   "execution_count": 5,
   "metadata": {},
   "outputs": [
    {
     "data": {
      "text/plain": [
       "ultralytics.engine.results.Boxes object with attributes:\n",
       "\n",
       "cls: tensor([9.])\n",
       "conf: tensor([0.9362])\n",
       "data: tensor([[125.6595,  58.2163, 220.0170, 190.8182,   0.9362,   9.0000]])\n",
       "id: None\n",
       "is_track: False\n",
       "orig_shape: (272, 340)\n",
       "shape: torch.Size([1, 6])\n",
       "xywh: tensor([[172.8383, 124.5172,  94.3575, 132.6019]])\n",
       "xywhn: tensor([[0.5083, 0.4578, 0.2775, 0.4875]])\n",
       "xyxy: tensor([[125.6595,  58.2163, 220.0170, 190.8182]])\n",
       "xyxyn: tensor([[0.3696, 0.2140, 0.6471, 0.7015]])"
      ]
     },
     "execution_count": 5,
     "metadata": {},
     "output_type": "execute_result"
    }
   ],
   "source": [
    "\n",
    "\n",
    "results[0].boxes"
   ]
  },
  {
   "cell_type": "code",
   "execution_count": null,
   "metadata": {},
   "outputs": [],
   "source": [
    "pid1=PID(Kp=0.4, Ki=0.3, Kd=0.1)\n",
    "self.pid1.setpoint=x"
   ]
  }
 ],
 "metadata": {
  "kernelspec": {
   "display_name": "Python 3",
   "language": "python",
   "name": "python3"
  },
  "language_info": {
   "codemirror_mode": {
    "name": "ipython",
    "version": 3
   },
   "file_extension": ".py",
   "mimetype": "text/x-python",
   "name": "python",
   "nbconvert_exporter": "python",
   "pygments_lexer": "ipython3",
   "version": "3.10.9 (tags/v3.10.9:1dd9be6, Dec  6 2022, 20:01:21) [MSC v.1934 64 bit (AMD64)]"
  },
  "orig_nbformat": 4,
  "vscode": {
   "interpreter": {
    "hash": "6eea3c6b1572db29440ab8c373c5deff4703e3b220ddd8431a18b248b7827fc9"
   }
  }
 },
 "nbformat": 4,
 "nbformat_minor": 2
}
