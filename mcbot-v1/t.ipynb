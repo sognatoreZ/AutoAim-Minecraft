{
 "cells": [
  {
   "cell_type": "code",
   "execution_count": 9,
   "metadata": {},
   "outputs": [],
   "source": [
    "from ultralytics import YOLO\n",
    "import cv2 as cv\n",
    "import os\n",
    "MODEL_PATH=os.path.join(\"mcbot-v1\",\"epoch30.pt\")"
   ]
  },
  {
   "cell_type": "code",
   "execution_count": 10,
   "metadata": {},
   "outputs": [],
   "source": [
    "model = YOLO(\"epoch30.pt\")"
   ]
  },
  {
   "cell_type": "code",
   "execution_count": 17,
   "metadata": {},
   "outputs": [
    {
     "name": "stderr",
     "output_type": "stream",
     "text": [
      "\n",
      "0: 640x800 1 llama, 352.1ms\n",
      "Speed: 8.0ms preprocess, 352.1ms inference, 3.6ms postprocess per image at shape (1, 3, 640, 800)\n"
     ]
    }
   ],
   "source": [
    "img=cv.imread(\"test1.jpg\")\n",
    "results=model.predict(img)"
   ]
  },
  {
   "cell_type": "code",
   "execution_count": 16,
   "metadata": {},
   "outputs": [
    {
     "data": {
      "text/plain": [
       "tensor([[125.6595,  58.2163, 220.0170, 190.8182]])"
      ]
     },
     "execution_count": 16,
     "metadata": {},
     "output_type": "execute_result"
    }
   ],
   "source": [
    "results[0].boxes[0].xyxy"
   ]
  },
  {
   "cell_type": "code",
   "execution_count": 18,
   "metadata": {},
   "outputs": [
    {
     "data": {
      "text/plain": [
       "ultralytics.engine.results.Boxes object with attributes:\n",
       "\n",
       "cls: tensor([9.])\n",
       "conf: tensor([0.9362])\n",
       "data: tensor([[125.6595,  58.2163, 220.0170, 190.8182,   0.9362,   9.0000]])\n",
       "id: None\n",
       "is_track: False\n",
       "orig_shape: (272, 340)\n",
       "shape: torch.Size([1, 6])\n",
       "xywh: tensor([[172.8383, 124.5172,  94.3575, 132.6019]])\n",
       "xywhn: tensor([[0.5083, 0.4578, 0.2775, 0.4875]])\n",
       "xyxy: tensor([[125.6595,  58.2163, 220.0170, 190.8182]])\n",
       "xyxyn: tensor([[0.3696, 0.2140, 0.6471, 0.7015]])"
      ]
     },
     "execution_count": 18,
     "metadata": {},
     "output_type": "execute_result"
    }
   ],
   "source": [
    "\n",
    "\n",
    "results[0].boxes"
   ]
  }
 ],
 "metadata": {
  "kernelspec": {
   "display_name": "Python 3",
   "language": "python",
   "name": "python3"
  },
  "language_info": {
   "codemirror_mode": {
    "name": "ipython",
    "version": 3
   },
   "file_extension": ".py",
   "mimetype": "text/x-python",
   "name": "python",
   "nbconvert_exporter": "python",
   "pygments_lexer": "ipython3",
   "version": "3.10.9 (tags/v3.10.9:1dd9be6, Dec  6 2022, 20:01:21) [MSC v.1934 64 bit (AMD64)]"
  },
  "orig_nbformat": 4,
  "vscode": {
   "interpreter": {
    "hash": "6eea3c6b1572db29440ab8c373c5deff4703e3b220ddd8431a18b248b7827fc9"
   }
  }
 },
 "nbformat": 4,
 "nbformat_minor": 2
}
